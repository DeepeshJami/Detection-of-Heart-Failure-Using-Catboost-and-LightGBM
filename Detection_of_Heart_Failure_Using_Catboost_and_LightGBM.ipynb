{
  "nbformat": 4,
  "nbformat_minor": 0,
  "metadata": {
    "colab": {
      "name": "Detection of Heart Failure Using Catboost and LightGBM.ipynb",
      "provenance": []
    },
    "kernelspec": {
      "name": "python3",
      "display_name": "Python 3"
    }
  },
  "cells": [
    {
      "cell_type": "code",
      "metadata": {
        "id": "QN8L0w9GbziK",
        "colab_type": "code",
        "colab": {}
      },
      "source": [
        "# This Python 3 environment comes with many helpful analytics libraries installed\n",
        "# It is defined by the kaggle/python Docker image: https://github.com/kaggle/docker-python\n",
        "# For example, here's several helpful packages to load\n",
        "\n",
        "import numpy as np # linear algebra\n",
        "import pandas as pd # data processing, CSV file I/O (e.g. pd.read_csv)\n",
        "\n",
        "# Input data files are available in the read-only \"../input/\" directory\n",
        "# For example, running this (by clicking run or pressing Shift+Enter) will list all files under the input directory\n",
        "\n",
        "import os\n",
        "for dirname, _, filenames in os.walk('/kaggle/input'):\n",
        "    for filename in filenames:\n",
        "        print(os.path.join(dirname, filename))\n",
        "\n",
        "# You can write up to 5GB to the current directory (/kaggle/working/) that gets preserved as output when you create a version using \"Save & Run All\" \n",
        "# You can also write temporary files to /kaggle/temp/, but they won't be saved outside of the current session"
      ],
      "execution_count": 1,
      "outputs": []
    },
    {
      "cell_type": "code",
      "metadata": {
        "id": "oifrsYRsb__a",
        "colab_type": "code",
        "colab": {
          "base_uri": "https://localhost:8080/",
          "height": 70
        },
        "outputId": "0f536552-d067-4b0a-b300-3d312ae5b744"
      },
      "source": [
        "import pandas as pd\n",
        "import numpy as npo\n",
        "import matplotlib.pyplot as plt\n",
        "import seaborn as sns\n",
        "import sklearn"
      ],
      "execution_count": 2,
      "outputs": [
        {
          "output_type": "stream",
          "text": [
            "/usr/local/lib/python3.6/dist-packages/statsmodels/tools/_testing.py:19: FutureWarning: pandas.util.testing is deprecated. Use the functions in the public API at pandas.testing instead.\n",
            "  import pandas.util.testing as tm\n"
          ],
          "name": "stderr"
        }
      ]
    },
    {
      "cell_type": "code",
      "metadata": {
        "id": "45ZAGwzJcJA5",
        "colab_type": "code",
        "colab": {}
      },
      "source": [
        "df=pd.read_csv('heart_failure_clinical_records_dataset.csv')"
      ],
      "execution_count": 6,
      "outputs": []
    },
    {
      "cell_type": "code",
      "metadata": {
        "id": "iRrI-KxncNfC",
        "colab_type": "code",
        "colab": {
          "base_uri": "https://localhost:8080/",
          "height": 215
        },
        "outputId": "88c4382f-be9d-4e77-94f5-a5bcd136f128"
      },
      "source": [
        "df.head()"
      ],
      "execution_count": 7,
      "outputs": [
        {
          "output_type": "execute_result",
          "data": {
            "text/html": [
              "<div>\n",
              "<style scoped>\n",
              "    .dataframe tbody tr th:only-of-type {\n",
              "        vertical-align: middle;\n",
              "    }\n",
              "\n",
              "    .dataframe tbody tr th {\n",
              "        vertical-align: top;\n",
              "    }\n",
              "\n",
              "    .dataframe thead th {\n",
              "        text-align: right;\n",
              "    }\n",
              "</style>\n",
              "<table border=\"1\" class=\"dataframe\">\n",
              "  <thead>\n",
              "    <tr style=\"text-align: right;\">\n",
              "      <th></th>\n",
              "      <th>age</th>\n",
              "      <th>anaemia</th>\n",
              "      <th>creatinine_phosphokinase</th>\n",
              "      <th>diabetes</th>\n",
              "      <th>ejection_fraction</th>\n",
              "      <th>high_blood_pressure</th>\n",
              "      <th>platelets</th>\n",
              "      <th>serum_creatinine</th>\n",
              "      <th>serum_sodium</th>\n",
              "      <th>sex</th>\n",
              "      <th>smoking</th>\n",
              "      <th>time</th>\n",
              "      <th>DEATH_EVENT</th>\n",
              "    </tr>\n",
              "  </thead>\n",
              "  <tbody>\n",
              "    <tr>\n",
              "      <th>0</th>\n",
              "      <td>75.0</td>\n",
              "      <td>0</td>\n",
              "      <td>582</td>\n",
              "      <td>0</td>\n",
              "      <td>20</td>\n",
              "      <td>1</td>\n",
              "      <td>265000.00</td>\n",
              "      <td>1.9</td>\n",
              "      <td>130</td>\n",
              "      <td>1</td>\n",
              "      <td>0</td>\n",
              "      <td>4</td>\n",
              "      <td>1</td>\n",
              "    </tr>\n",
              "    <tr>\n",
              "      <th>1</th>\n",
              "      <td>55.0</td>\n",
              "      <td>0</td>\n",
              "      <td>7861</td>\n",
              "      <td>0</td>\n",
              "      <td>38</td>\n",
              "      <td>0</td>\n",
              "      <td>263358.03</td>\n",
              "      <td>1.1</td>\n",
              "      <td>136</td>\n",
              "      <td>1</td>\n",
              "      <td>0</td>\n",
              "      <td>6</td>\n",
              "      <td>1</td>\n",
              "    </tr>\n",
              "    <tr>\n",
              "      <th>2</th>\n",
              "      <td>65.0</td>\n",
              "      <td>0</td>\n",
              "      <td>146</td>\n",
              "      <td>0</td>\n",
              "      <td>20</td>\n",
              "      <td>0</td>\n",
              "      <td>162000.00</td>\n",
              "      <td>1.3</td>\n",
              "      <td>129</td>\n",
              "      <td>1</td>\n",
              "      <td>1</td>\n",
              "      <td>7</td>\n",
              "      <td>1</td>\n",
              "    </tr>\n",
              "    <tr>\n",
              "      <th>3</th>\n",
              "      <td>50.0</td>\n",
              "      <td>1</td>\n",
              "      <td>111</td>\n",
              "      <td>0</td>\n",
              "      <td>20</td>\n",
              "      <td>0</td>\n",
              "      <td>210000.00</td>\n",
              "      <td>1.9</td>\n",
              "      <td>137</td>\n",
              "      <td>1</td>\n",
              "      <td>0</td>\n",
              "      <td>7</td>\n",
              "      <td>1</td>\n",
              "    </tr>\n",
              "    <tr>\n",
              "      <th>4</th>\n",
              "      <td>65.0</td>\n",
              "      <td>1</td>\n",
              "      <td>160</td>\n",
              "      <td>1</td>\n",
              "      <td>20</td>\n",
              "      <td>0</td>\n",
              "      <td>327000.00</td>\n",
              "      <td>2.7</td>\n",
              "      <td>116</td>\n",
              "      <td>0</td>\n",
              "      <td>0</td>\n",
              "      <td>8</td>\n",
              "      <td>1</td>\n",
              "    </tr>\n",
              "  </tbody>\n",
              "</table>\n",
              "</div>"
            ],
            "text/plain": [
              "    age  anaemia  creatinine_phosphokinase  ...  smoking  time  DEATH_EVENT\n",
              "0  75.0        0                       582  ...        0     4            1\n",
              "1  55.0        0                      7861  ...        0     6            1\n",
              "2  65.0        0                       146  ...        1     7            1\n",
              "3  50.0        1                       111  ...        0     7            1\n",
              "4  65.0        1                       160  ...        0     8            1\n",
              "\n",
              "[5 rows x 13 columns]"
            ]
          },
          "metadata": {
            "tags": []
          },
          "execution_count": 7
        }
      ]
    },
    {
      "cell_type": "code",
      "metadata": {
        "id": "6z-KHHP9cm1o",
        "colab_type": "code",
        "colab": {
          "base_uri": "https://localhost:8080/",
          "height": 452
        },
        "outputId": "f5bdda2e-bdf1-406c-c1ff-a872bc19be2b"
      },
      "source": [
        "df.corr()"
      ],
      "execution_count": 8,
      "outputs": [
        {
          "output_type": "execute_result",
          "data": {
            "text/html": [
              "<div>\n",
              "<style scoped>\n",
              "    .dataframe tbody tr th:only-of-type {\n",
              "        vertical-align: middle;\n",
              "    }\n",
              "\n",
              "    .dataframe tbody tr th {\n",
              "        vertical-align: top;\n",
              "    }\n",
              "\n",
              "    .dataframe thead th {\n",
              "        text-align: right;\n",
              "    }\n",
              "</style>\n",
              "<table border=\"1\" class=\"dataframe\">\n",
              "  <thead>\n",
              "    <tr style=\"text-align: right;\">\n",
              "      <th></th>\n",
              "      <th>age</th>\n",
              "      <th>anaemia</th>\n",
              "      <th>creatinine_phosphokinase</th>\n",
              "      <th>diabetes</th>\n",
              "      <th>ejection_fraction</th>\n",
              "      <th>high_blood_pressure</th>\n",
              "      <th>platelets</th>\n",
              "      <th>serum_creatinine</th>\n",
              "      <th>serum_sodium</th>\n",
              "      <th>sex</th>\n",
              "      <th>smoking</th>\n",
              "      <th>time</th>\n",
              "      <th>DEATH_EVENT</th>\n",
              "    </tr>\n",
              "  </thead>\n",
              "  <tbody>\n",
              "    <tr>\n",
              "      <th>age</th>\n",
              "      <td>1.000000</td>\n",
              "      <td>0.088006</td>\n",
              "      <td>-0.081584</td>\n",
              "      <td>-0.101012</td>\n",
              "      <td>0.060098</td>\n",
              "      <td>0.093289</td>\n",
              "      <td>-0.052354</td>\n",
              "      <td>0.159187</td>\n",
              "      <td>-0.045966</td>\n",
              "      <td>0.065430</td>\n",
              "      <td>0.018668</td>\n",
              "      <td>-0.224068</td>\n",
              "      <td>0.253729</td>\n",
              "    </tr>\n",
              "    <tr>\n",
              "      <th>anaemia</th>\n",
              "      <td>0.088006</td>\n",
              "      <td>1.000000</td>\n",
              "      <td>-0.190741</td>\n",
              "      <td>-0.012729</td>\n",
              "      <td>0.031557</td>\n",
              "      <td>0.038182</td>\n",
              "      <td>-0.043786</td>\n",
              "      <td>0.052174</td>\n",
              "      <td>0.041882</td>\n",
              "      <td>-0.094769</td>\n",
              "      <td>-0.107290</td>\n",
              "      <td>-0.141414</td>\n",
              "      <td>0.066270</td>\n",
              "    </tr>\n",
              "    <tr>\n",
              "      <th>creatinine_phosphokinase</th>\n",
              "      <td>-0.081584</td>\n",
              "      <td>-0.190741</td>\n",
              "      <td>1.000000</td>\n",
              "      <td>-0.009639</td>\n",
              "      <td>-0.044080</td>\n",
              "      <td>-0.070590</td>\n",
              "      <td>0.024463</td>\n",
              "      <td>-0.016408</td>\n",
              "      <td>0.059550</td>\n",
              "      <td>0.079791</td>\n",
              "      <td>0.002421</td>\n",
              "      <td>-0.009346</td>\n",
              "      <td>0.062728</td>\n",
              "    </tr>\n",
              "    <tr>\n",
              "      <th>diabetes</th>\n",
              "      <td>-0.101012</td>\n",
              "      <td>-0.012729</td>\n",
              "      <td>-0.009639</td>\n",
              "      <td>1.000000</td>\n",
              "      <td>-0.004850</td>\n",
              "      <td>-0.012732</td>\n",
              "      <td>0.092193</td>\n",
              "      <td>-0.046975</td>\n",
              "      <td>-0.089551</td>\n",
              "      <td>-0.157730</td>\n",
              "      <td>-0.147173</td>\n",
              "      <td>0.033726</td>\n",
              "      <td>-0.001943</td>\n",
              "    </tr>\n",
              "    <tr>\n",
              "      <th>ejection_fraction</th>\n",
              "      <td>0.060098</td>\n",
              "      <td>0.031557</td>\n",
              "      <td>-0.044080</td>\n",
              "      <td>-0.004850</td>\n",
              "      <td>1.000000</td>\n",
              "      <td>0.024445</td>\n",
              "      <td>0.072177</td>\n",
              "      <td>-0.011302</td>\n",
              "      <td>0.175902</td>\n",
              "      <td>-0.148386</td>\n",
              "      <td>-0.067315</td>\n",
              "      <td>0.041729</td>\n",
              "      <td>-0.268603</td>\n",
              "    </tr>\n",
              "    <tr>\n",
              "      <th>high_blood_pressure</th>\n",
              "      <td>0.093289</td>\n",
              "      <td>0.038182</td>\n",
              "      <td>-0.070590</td>\n",
              "      <td>-0.012732</td>\n",
              "      <td>0.024445</td>\n",
              "      <td>1.000000</td>\n",
              "      <td>0.049963</td>\n",
              "      <td>-0.004935</td>\n",
              "      <td>0.037109</td>\n",
              "      <td>-0.104615</td>\n",
              "      <td>-0.055711</td>\n",
              "      <td>-0.196439</td>\n",
              "      <td>0.079351</td>\n",
              "    </tr>\n",
              "    <tr>\n",
              "      <th>platelets</th>\n",
              "      <td>-0.052354</td>\n",
              "      <td>-0.043786</td>\n",
              "      <td>0.024463</td>\n",
              "      <td>0.092193</td>\n",
              "      <td>0.072177</td>\n",
              "      <td>0.049963</td>\n",
              "      <td>1.000000</td>\n",
              "      <td>-0.041198</td>\n",
              "      <td>0.062125</td>\n",
              "      <td>-0.125120</td>\n",
              "      <td>0.028234</td>\n",
              "      <td>0.010514</td>\n",
              "      <td>-0.049139</td>\n",
              "    </tr>\n",
              "    <tr>\n",
              "      <th>serum_creatinine</th>\n",
              "      <td>0.159187</td>\n",
              "      <td>0.052174</td>\n",
              "      <td>-0.016408</td>\n",
              "      <td>-0.046975</td>\n",
              "      <td>-0.011302</td>\n",
              "      <td>-0.004935</td>\n",
              "      <td>-0.041198</td>\n",
              "      <td>1.000000</td>\n",
              "      <td>-0.189095</td>\n",
              "      <td>0.006970</td>\n",
              "      <td>-0.027414</td>\n",
              "      <td>-0.149315</td>\n",
              "      <td>0.294278</td>\n",
              "    </tr>\n",
              "    <tr>\n",
              "      <th>serum_sodium</th>\n",
              "      <td>-0.045966</td>\n",
              "      <td>0.041882</td>\n",
              "      <td>0.059550</td>\n",
              "      <td>-0.089551</td>\n",
              "      <td>0.175902</td>\n",
              "      <td>0.037109</td>\n",
              "      <td>0.062125</td>\n",
              "      <td>-0.189095</td>\n",
              "      <td>1.000000</td>\n",
              "      <td>-0.027566</td>\n",
              "      <td>0.004813</td>\n",
              "      <td>0.087640</td>\n",
              "      <td>-0.195204</td>\n",
              "    </tr>\n",
              "    <tr>\n",
              "      <th>sex</th>\n",
              "      <td>0.065430</td>\n",
              "      <td>-0.094769</td>\n",
              "      <td>0.079791</td>\n",
              "      <td>-0.157730</td>\n",
              "      <td>-0.148386</td>\n",
              "      <td>-0.104615</td>\n",
              "      <td>-0.125120</td>\n",
              "      <td>0.006970</td>\n",
              "      <td>-0.027566</td>\n",
              "      <td>1.000000</td>\n",
              "      <td>0.445892</td>\n",
              "      <td>-0.015608</td>\n",
              "      <td>-0.004316</td>\n",
              "    </tr>\n",
              "    <tr>\n",
              "      <th>smoking</th>\n",
              "      <td>0.018668</td>\n",
              "      <td>-0.107290</td>\n",
              "      <td>0.002421</td>\n",
              "      <td>-0.147173</td>\n",
              "      <td>-0.067315</td>\n",
              "      <td>-0.055711</td>\n",
              "      <td>0.028234</td>\n",
              "      <td>-0.027414</td>\n",
              "      <td>0.004813</td>\n",
              "      <td>0.445892</td>\n",
              "      <td>1.000000</td>\n",
              "      <td>-0.022839</td>\n",
              "      <td>-0.012623</td>\n",
              "    </tr>\n",
              "    <tr>\n",
              "      <th>time</th>\n",
              "      <td>-0.224068</td>\n",
              "      <td>-0.141414</td>\n",
              "      <td>-0.009346</td>\n",
              "      <td>0.033726</td>\n",
              "      <td>0.041729</td>\n",
              "      <td>-0.196439</td>\n",
              "      <td>0.010514</td>\n",
              "      <td>-0.149315</td>\n",
              "      <td>0.087640</td>\n",
              "      <td>-0.015608</td>\n",
              "      <td>-0.022839</td>\n",
              "      <td>1.000000</td>\n",
              "      <td>-0.526964</td>\n",
              "    </tr>\n",
              "    <tr>\n",
              "      <th>DEATH_EVENT</th>\n",
              "      <td>0.253729</td>\n",
              "      <td>0.066270</td>\n",
              "      <td>0.062728</td>\n",
              "      <td>-0.001943</td>\n",
              "      <td>-0.268603</td>\n",
              "      <td>0.079351</td>\n",
              "      <td>-0.049139</td>\n",
              "      <td>0.294278</td>\n",
              "      <td>-0.195204</td>\n",
              "      <td>-0.004316</td>\n",
              "      <td>-0.012623</td>\n",
              "      <td>-0.526964</td>\n",
              "      <td>1.000000</td>\n",
              "    </tr>\n",
              "  </tbody>\n",
              "</table>\n",
              "</div>"
            ],
            "text/plain": [
              "                               age   anaemia  ...      time  DEATH_EVENT\n",
              "age                       1.000000  0.088006  ... -0.224068     0.253729\n",
              "anaemia                   0.088006  1.000000  ... -0.141414     0.066270\n",
              "creatinine_phosphokinase -0.081584 -0.190741  ... -0.009346     0.062728\n",
              "diabetes                 -0.101012 -0.012729  ...  0.033726    -0.001943\n",
              "ejection_fraction         0.060098  0.031557  ...  0.041729    -0.268603\n",
              "high_blood_pressure       0.093289  0.038182  ... -0.196439     0.079351\n",
              "platelets                -0.052354 -0.043786  ...  0.010514    -0.049139\n",
              "serum_creatinine          0.159187  0.052174  ... -0.149315     0.294278\n",
              "serum_sodium             -0.045966  0.041882  ...  0.087640    -0.195204\n",
              "sex                       0.065430 -0.094769  ... -0.015608    -0.004316\n",
              "smoking                   0.018668 -0.107290  ... -0.022839    -0.012623\n",
              "time                     -0.224068 -0.141414  ...  1.000000    -0.526964\n",
              "DEATH_EVENT               0.253729  0.066270  ... -0.526964     1.000000\n",
              "\n",
              "[13 rows x 13 columns]"
            ]
          },
          "metadata": {
            "tags": []
          },
          "execution_count": 8
        }
      ]
    },
    {
      "cell_type": "code",
      "metadata": {
        "id": "-dHMmlv3copI",
        "colab_type": "code",
        "colab": {
          "base_uri": "https://localhost:8080/",
          "height": 275
        },
        "outputId": "3d9568f0-b388-45e4-a7fa-8d9514649e08"
      },
      "source": [
        "plt.matshow(df.corr())\n",
        "plt.show()"
      ],
      "execution_count": 9,
      "outputs": [
        {
          "output_type": "display_data",
          "data": {
            "image/png": "[encoded data removed]",
            "text/plain": [
              "<Figure size 288x288 with 1 Axes>"
            ]
          },
          "metadata": {
            "tags": [],
            "needs_background": "light"
          }
        }
      ]
    },
    {
      "cell_type": "code",
      "metadata": {
        "id": "t5-syu2Vcs3T",
        "colab_type": "code",
        "colab": {
          "base_uri": "https://localhost:8080/",
          "height": 353
        },
        "outputId": "334f24be-82df-4877-c96d-e467d941bfa0"
      },
      "source": [
        "df.info()"
      ],
      "execution_count": 10,
      "outputs": [
        {
          "output_type": "stream",
          "text": [
            "<class 'pandas.core.frame.DataFrame'>\n",
            "RangeIndex: 299 entries, 0 to 298\n",
            "Data columns (total 13 columns):\n",
            " #   Column                    Non-Null Count  Dtype  \n",
            "---  ------                    --------------  -----  \n",
            " 0   age                       299 non-null    float64\n",
            " 1   anaemia                   299 non-null    int64  \n",
            " 2   creatinine_phosphokinase  299 non-null    int64  \n",
            " 3   diabetes                  299 non-null    int64  \n",
            " 4   ejection_fraction         299 non-null    int64  \n",
            " 5   high_blood_pressure       299 non-null    int64  \n",
            " 6   platelets                 299 non-null    float64\n",
            " 7   serum_creatinine          299 non-null    float64\n",
            " 8   serum_sodium              299 non-null    int64  \n",
            " 9   sex                       299 non-null    int64  \n",
            " 10  smoking                   299 non-null    int64  \n",
            " 11  time                      299 non-null    int64  \n",
            " 12  DEATH_EVENT               299 non-null    int64  \n",
            "dtypes: float64(3), int64(10)\n",
            "memory usage: 30.5 KB\n"
          ],
          "name": "stdout"
        }
      ]
    },
    {
      "cell_type": "code",
      "metadata": {
        "id": "znfEQmDRcvcU",
        "colab_type": "code",
        "colab": {}
      },
      "source": [
        "df=df.drop(['time'],axis=1)"
      ],
      "execution_count": 11,
      "outputs": []
    },
    {
      "cell_type": "code",
      "metadata": {
        "id": "aqxuvxbpcyHc",
        "colab_type": "code",
        "colab": {}
      },
      "source": [
        "X=df.drop(['DEATH_EVENT'],axis=1)\n",
        "y=df[['DEATH_EVENT']]"
      ],
      "execution_count": 12,
      "outputs": []
    },
    {
      "cell_type": "code",
      "metadata": {
        "id": "eORQoiQnc0am",
        "colab_type": "code",
        "colab": {}
      },
      "source": [
        "import keras\n",
        "from keras.models import Sequential\n",
        "from keras.layers import Dense\n",
        "from keras.layers import LeakyReLU,PReLU,ELU\n",
        "from keras.layers import Dropout"
      ],
      "execution_count": 13,
      "outputs": []
    },
    {
      "cell_type": "code",
      "metadata": {
        "id": "JmhMV5Rpc3_P",
        "colab_type": "code",
        "colab": {
          "base_uri": "https://localhost:8080/",
          "height": 34
        },
        "outputId": "b2acb61f-0dad-4747-ef59-81be96e0d006"
      },
      "source": [
        "X.shape"
      ],
      "execution_count": 14,
      "outputs": [
        {
          "output_type": "execute_result",
          "data": {
            "text/plain": [
              "(299, 11)"
            ]
          },
          "metadata": {
            "tags": []
          },
          "execution_count": 14
        }
      ]
    },
    {
      "cell_type": "code",
      "metadata": {
        "id": "SmRP7Lzjc6zn",
        "colab_type": "code",
        "colab": {
          "base_uri": "https://localhost:8080/",
          "height": 34
        },
        "outputId": "8dbb4de7-e503-4f7e-91d4-ac584380ace9"
      },
      "source": [
        "y.shape"
      ],
      "execution_count": 15,
      "outputs": [
        {
          "output_type": "execute_result",
          "data": {
            "text/plain": [
              "(299, 1)"
            ]
          },
          "metadata": {
            "tags": []
          },
          "execution_count": 15
        }
      ]
    },
    {
      "cell_type": "code",
      "metadata": {
        "id": "pPBuo4x6c8xU",
        "colab_type": "code",
        "colab": {}
      },
      "source": [
        "from sklearn.model_selection import train_test_split\n",
        "X_train, X_test, y_train, y_test = train_test_split(X, y, test_size = 0.2, random_state = 1)"
      ],
      "execution_count": 16,
      "outputs": []
    },
    {
      "cell_type": "markdown",
      "metadata": {
        "id": "siL8JrcUdKD9",
        "colab_type": "text"
      },
      "source": [
        "Use the below code If this is the first time using Catboost"
      ]
    },
    {
      "cell_type": "code",
      "metadata": {
        "id": "40yDtk8IdDR4",
        "colab_type": "code",
        "colab": {
          "base_uri": "https://localhost:8080/",
          "height": 339
        },
        "outputId": "7a8dbefe-5447-4277-e885-58d17c87cda7"
      },
      "source": [
        "pip install catboost"
      ],
      "execution_count": 18,
      "outputs": [
        {
          "output_type": "stream",
          "text": [
            "Collecting catboost\n",
            "\u001b[?25l  Downloading https://files.pythonhosted.org/packages/96/6c/6608210b29649267de52001b09e369777ee2a5cfe1c71fa75eba82a4f2dc/catboost-0.24-cp36-none-manylinux1_x86_64.whl (65.9MB)\n",
            "\u001b[K     |████████████████████████████████| 65.9MB 58kB/s \n",
            "\u001b[?25hRequirement already satisfied: numpy>=1.16.0 in /usr/local/lib/python3.6/dist-packages (from catboost) (1.18.5)\n",
            "Requirement already satisfied: matplotlib in /usr/local/lib/python3.6/dist-packages (from catboost) (3.2.2)\n",
            "Requirement already satisfied: graphviz in /usr/local/lib/python3.6/dist-packages (from catboost) (0.10.1)\n",
            "Requirement already satisfied: pandas>=0.24.0 in /usr/local/lib/python3.6/dist-packages (from catboost) (1.0.5)\n",
            "Requirement already satisfied: scipy in /usr/local/lib/python3.6/dist-packages (from catboost) (1.4.1)\n",
            "Requirement already satisfied: six in /usr/local/lib/python3.6/dist-packages (from catboost) (1.15.0)\n",
            "Requirement already satisfied: plotly in /usr/local/lib/python3.6/dist-packages (from catboost) (4.4.1)\n",
            "Requirement already satisfied: kiwisolver>=1.0.1 in /usr/local/lib/python3.6/dist-packages (from matplotlib->catboost) (1.2.0)\n",
            "Requirement already satisfied: cycler>=0.10 in /usr/local/lib/python3.6/dist-packages (from matplotlib->catboost) (0.10.0)\n",
            "Requirement already satisfied: pyparsing!=2.0.4,!=2.1.2,!=2.1.6,>=2.0.1 in /usr/local/lib/python3.6/dist-packages (from matplotlib->catboost) (2.4.7)\n",
            "Requirement already satisfied: python-dateutil>=2.1 in /usr/local/lib/python3.6/dist-packages (from matplotlib->catboost) (2.8.1)\n",
            "Requirement already satisfied: pytz>=2017.2 in /usr/local/lib/python3.6/dist-packages (from pandas>=0.24.0->catboost) (2018.9)\n",
            "Requirement already satisfied: retrying>=1.3.3 in /usr/local/lib/python3.6/dist-packages (from plotly->catboost) (1.3.3)\n",
            "Installing collected packages: catboost\n",
            "Successfully installed catboost-0.24\n"
          ],
          "name": "stdout"
        }
      ]
    },
    {
      "cell_type": "code",
      "metadata": {
        "id": "MDw-k1lFc-5q",
        "colab_type": "code",
        "colab": {}
      },
      "source": [
        "from catboost import CatBoostClassifier\n",
        "CB = CatBoostClassifier(iterations=124,learning_rate=0.3018,depth=3)"
      ],
      "execution_count": 19,
      "outputs": []
    },
    {
      "cell_type": "code",
      "metadata": {
        "id": "4KpYIuzwdBjV",
        "colab_type": "code",
        "colab": {
          "base_uri": "https://localhost:8080/",
          "height": 1000
        },
        "outputId": "92a6e38f-78d1-4fd8-d169-2c4710f29232"
      },
      "source": [
        "CB.fit(X_train, y_train,eval_set=(X_test, y_test))"
      ],
      "execution_count": 20,
      "outputs": [
        {
          "output_type": "stream",
          "text": [
            "0:\tlearn: 0.6287759\ttest: 0.5941956\tbest: 0.5941956 (0)\ttotal: 48.8ms\tremaining: 6s\n",
            "1:\tlearn: 0.5943302\ttest: 0.5596439\tbest: 0.5596439 (1)\ttotal: 49.5ms\tremaining: 3.02s\n",
            "2:\tlearn: 0.5645247\ttest: 0.5306001\tbest: 0.5306001 (2)\ttotal: 50.3ms\tremaining: 2.03s\n",
            "3:\tlearn: 0.5464935\ttest: 0.5095741\tbest: 0.5095741 (3)\ttotal: 50.9ms\tremaining: 1.53s\n",
            "4:\tlearn: 0.5310745\ttest: 0.4775584\tbest: 0.4775584 (4)\ttotal: 51.5ms\tremaining: 1.23s\n",
            "5:\tlearn: 0.5237181\ttest: 0.4752362\tbest: 0.4752362 (5)\ttotal: 52ms\tremaining: 1.02s\n",
            "6:\tlearn: 0.5106159\ttest: 0.4676478\tbest: 0.4676478 (6)\ttotal: 52.5ms\tremaining: 878ms\n",
            "7:\tlearn: 0.5026592\ttest: 0.4574481\tbest: 0.4574481 (7)\ttotal: 53.1ms\tremaining: 770ms\n",
            "8:\tlearn: 0.4976305\ttest: 0.4489197\tbest: 0.4489197 (8)\ttotal: 53.7ms\tremaining: 686ms\n",
            "9:\tlearn: 0.4906867\ttest: 0.4485010\tbest: 0.4485010 (9)\ttotal: 54.2ms\tremaining: 618ms\n",
            "10:\tlearn: 0.4841420\ttest: 0.4404094\tbest: 0.4404094 (10)\ttotal: 54.8ms\tremaining: 563ms\n",
            "11:\tlearn: 0.4783287\ttest: 0.4405575\tbest: 0.4404094 (10)\ttotal: 55.3ms\tremaining: 516ms\n",
            "12:\tlearn: 0.4708733\ttest: 0.4366610\tbest: 0.4366610 (12)\ttotal: 55.8ms\tremaining: 476ms\n",
            "13:\tlearn: 0.4662524\ttest: 0.4290325\tbest: 0.4290325 (13)\ttotal: 56.2ms\tremaining: 442ms\n",
            "14:\tlearn: 0.4613171\ttest: 0.4249236\tbest: 0.4249236 (14)\ttotal: 56.8ms\tremaining: 412ms\n",
            "15:\tlearn: 0.4603816\ttest: 0.4262708\tbest: 0.4249236 (14)\ttotal: 57.2ms\tremaining: 386ms\n",
            "16:\tlearn: 0.4560885\ttest: 0.4211164\tbest: 0.4211164 (16)\ttotal: 57.7ms\tremaining: 363ms\n",
            "17:\tlearn: 0.4491713\ttest: 0.4143685\tbest: 0.4143685 (17)\ttotal: 58.2ms\tremaining: 343ms\n",
            "18:\tlearn: 0.4481235\ttest: 0.4150936\tbest: 0.4143685 (17)\ttotal: 58.5ms\tremaining: 324ms\n",
            "19:\tlearn: 0.4461521\ttest: 0.4146360\tbest: 0.4143685 (17)\ttotal: 59.1ms\tremaining: 307ms\n",
            "20:\tlearn: 0.4441874\ttest: 0.4151899\tbest: 0.4143685 (17)\ttotal: 59.6ms\tremaining: 292ms\n",
            "21:\tlearn: 0.4372995\ttest: 0.4136359\tbest: 0.4136359 (21)\ttotal: 60.2ms\tremaining: 279ms\n",
            "22:\tlearn: 0.4350513\ttest: 0.4135670\tbest: 0.4135670 (22)\ttotal: 60.9ms\tremaining: 267ms\n",
            "23:\tlearn: 0.4330912\ttest: 0.4138564\tbest: 0.4135670 (22)\ttotal: 61.5ms\tremaining: 256ms\n",
            "24:\tlearn: 0.4306410\ttest: 0.4126402\tbest: 0.4126402 (24)\ttotal: 62ms\tremaining: 245ms\n",
            "25:\tlearn: 0.4282662\ttest: 0.4138948\tbest: 0.4126402 (24)\ttotal: 62.5ms\tremaining: 235ms\n",
            "26:\tlearn: 0.4256413\ttest: 0.4124638\tbest: 0.4124638 (26)\ttotal: 62.9ms\tremaining: 226ms\n",
            "27:\tlearn: 0.4197312\ttest: 0.4100330\tbest: 0.4100330 (27)\ttotal: 63.6ms\tremaining: 218ms\n",
            "28:\tlearn: 0.4182746\ttest: 0.4106456\tbest: 0.4100330 (27)\ttotal: 64ms\tremaining: 210ms\n",
            "29:\tlearn: 0.4150717\ttest: 0.4114563\tbest: 0.4100330 (27)\ttotal: 64.7ms\tremaining: 203ms\n",
            "30:\tlearn: 0.4096595\ttest: 0.4083934\tbest: 0.4083934 (30)\ttotal: 65.1ms\tremaining: 195ms\n",
            "31:\tlearn: 0.4037405\ttest: 0.4050848\tbest: 0.4050848 (31)\ttotal: 65.6ms\tremaining: 189ms\n",
            "32:\tlearn: 0.4015574\ttest: 0.4029452\tbest: 0.4029452 (32)\ttotal: 66.1ms\tremaining: 182ms\n",
            "33:\tlearn: 0.3997212\ttest: 0.4047020\tbest: 0.4029452 (32)\ttotal: 66.5ms\tremaining: 176ms\n",
            "34:\tlearn: 0.3978395\ttest: 0.4037872\tbest: 0.4029452 (32)\ttotal: 67.1ms\tremaining: 171ms\n",
            "35:\tlearn: 0.3949787\ttest: 0.4070903\tbest: 0.4029452 (32)\ttotal: 67.5ms\tremaining: 165ms\n",
            "36:\tlearn: 0.3940567\ttest: 0.4080997\tbest: 0.4029452 (32)\ttotal: 68.1ms\tremaining: 160ms\n",
            "37:\tlearn: 0.3925834\ttest: 0.4076415\tbest: 0.4029452 (32)\ttotal: 68.5ms\tremaining: 155ms\n",
            "38:\tlearn: 0.3873530\ttest: 0.4069375\tbest: 0.4029452 (32)\ttotal: 69.1ms\tremaining: 151ms\n",
            "39:\tlearn: 0.3860013\ttest: 0.4084899\tbest: 0.4029452 (32)\ttotal: 69.8ms\tremaining: 147ms\n",
            "40:\tlearn: 0.3846874\ttest: 0.4100404\tbest: 0.4029452 (32)\ttotal: 70.3ms\tremaining: 142ms\n",
            "41:\tlearn: 0.3805915\ttest: 0.4146648\tbest: 0.4029452 (32)\ttotal: 70.8ms\tremaining: 138ms\n",
            "42:\tlearn: 0.3784661\ttest: 0.4119678\tbest: 0.4029452 (32)\ttotal: 71.3ms\tremaining: 134ms\n",
            "43:\tlearn: 0.3780582\ttest: 0.4123103\tbest: 0.4029452 (32)\ttotal: 71.7ms\tremaining: 130ms\n",
            "44:\tlearn: 0.3769645\ttest: 0.4118716\tbest: 0.4029452 (32)\ttotal: 72.3ms\tremaining: 127ms\n",
            "45:\tlearn: 0.3759496\ttest: 0.4126283\tbest: 0.4029452 (32)\ttotal: 72.7ms\tremaining: 123ms\n",
            "46:\tlearn: 0.3732907\ttest: 0.4152549\tbest: 0.4029452 (32)\ttotal: 73.2ms\tremaining: 120ms\n",
            "47:\tlearn: 0.3692117\ttest: 0.4131122\tbest: 0.4029452 (32)\ttotal: 73.7ms\tremaining: 117ms\n",
            "48:\tlearn: 0.3638416\ttest: 0.4104789\tbest: 0.4029452 (32)\ttotal: 74.2ms\tremaining: 114ms\n",
            "49:\tlearn: 0.3595109\ttest: 0.4062442\tbest: 0.4029452 (32)\ttotal: 74.6ms\tremaining: 110ms\n",
            "50:\tlearn: 0.3585944\ttest: 0.4078684\tbest: 0.4029452 (32)\ttotal: 75.1ms\tremaining: 107ms\n",
            "51:\tlearn: 0.3576308\ttest: 0.4094614\tbest: 0.4029452 (32)\ttotal: 75.6ms\tremaining: 105ms\n",
            "52:\tlearn: 0.3549667\ttest: 0.4113823\tbest: 0.4029452 (32)\ttotal: 76.1ms\tremaining: 102ms\n",
            "53:\tlearn: 0.3521528\ttest: 0.4122615\tbest: 0.4029452 (32)\ttotal: 76.6ms\tremaining: 99.3ms\n",
            "54:\tlearn: 0.3496509\ttest: 0.4092777\tbest: 0.4029452 (32)\ttotal: 77ms\tremaining: 96.6ms\n",
            "55:\tlearn: 0.3463383\ttest: 0.4133411\tbest: 0.4029452 (32)\ttotal: 77.5ms\tremaining: 94.1ms\n",
            "56:\tlearn: 0.3443582\ttest: 0.4131933\tbest: 0.4029452 (32)\ttotal: 77.9ms\tremaining: 91.6ms\n",
            "57:\tlearn: 0.3432035\ttest: 0.4113735\tbest: 0.4029452 (32)\ttotal: 78.4ms\tremaining: 89.2ms\n",
            "58:\tlearn: 0.3427408\ttest: 0.4119287\tbest: 0.4029452 (32)\ttotal: 78.8ms\tremaining: 86.9ms\n",
            "59:\tlearn: 0.3397282\ttest: 0.4124946\tbest: 0.4029452 (32)\ttotal: 79.3ms\tremaining: 84.6ms\n",
            "60:\tlearn: 0.3394529\ttest: 0.4125680\tbest: 0.4029452 (32)\ttotal: 79.8ms\tremaining: 82.4ms\n",
            "61:\tlearn: 0.3379286\ttest: 0.4141062\tbest: 0.4029452 (32)\ttotal: 80.2ms\tremaining: 80.2ms\n",
            "62:\tlearn: 0.3367243\ttest: 0.4145193\tbest: 0.4029452 (32)\ttotal: 80.7ms\tremaining: 78.1ms\n",
            "63:\tlearn: 0.3361981\ttest: 0.4156435\tbest: 0.4029452 (32)\ttotal: 81.1ms\tremaining: 76ms\n",
            "64:\tlearn: 0.3356364\ttest: 0.4157529\tbest: 0.4029452 (32)\ttotal: 81.6ms\tremaining: 74.1ms\n",
            "65:\tlearn: 0.3310936\ttest: 0.4160594\tbest: 0.4029452 (32)\ttotal: 82.1ms\tremaining: 72.1ms\n",
            "66:\tlearn: 0.3288179\ttest: 0.4172376\tbest: 0.4029452 (32)\ttotal: 82.6ms\tremaining: 70.2ms\n",
            "67:\tlearn: 0.3270482\ttest: 0.4200405\tbest: 0.4029452 (32)\ttotal: 83ms\tremaining: 68.4ms\n",
            "68:\tlearn: 0.3246247\ttest: 0.4185245\tbest: 0.4029452 (32)\ttotal: 83.5ms\tremaining: 66.5ms\n",
            "69:\tlearn: 0.3220473\ttest: 0.4202699\tbest: 0.4029452 (32)\ttotal: 83.9ms\tremaining: 64.7ms\n",
            "70:\tlearn: 0.3180094\ttest: 0.4216982\tbest: 0.4029452 (32)\ttotal: 84.4ms\tremaining: 63ms\n",
            "71:\tlearn: 0.3175979\ttest: 0.4233716\tbest: 0.4029452 (32)\ttotal: 84.8ms\tremaining: 61.3ms\n",
            "72:\tlearn: 0.3172047\ttest: 0.4238775\tbest: 0.4029452 (32)\ttotal: 85.3ms\tremaining: 59.6ms\n",
            "73:\tlearn: 0.3160907\ttest: 0.4252503\tbest: 0.4029452 (32)\ttotal: 85.8ms\tremaining: 58ms\n",
            "74:\tlearn: 0.3143603\ttest: 0.4258185\tbest: 0.4029452 (32)\ttotal: 86.3ms\tremaining: 56.4ms\n",
            "75:\tlearn: 0.3131193\ttest: 0.4275201\tbest: 0.4029452 (32)\ttotal: 86.7ms\tremaining: 54.8ms\n",
            "76:\tlearn: 0.3095219\ttest: 0.4275711\tbest: 0.4029452 (32)\ttotal: 87.2ms\tremaining: 53.2ms\n",
            "77:\tlearn: 0.3083739\ttest: 0.4281303\tbest: 0.4029452 (32)\ttotal: 87.6ms\tremaining: 51.7ms\n",
            "78:\tlearn: 0.3048670\ttest: 0.4345929\tbest: 0.4029452 (32)\ttotal: 88ms\tremaining: 50.1ms\n",
            "79:\tlearn: 0.3015697\ttest: 0.4347861\tbest: 0.4029452 (32)\ttotal: 88.5ms\tremaining: 48.7ms\n",
            "80:\tlearn: 0.2998003\ttest: 0.4344708\tbest: 0.4029452 (32)\ttotal: 88.9ms\tremaining: 47.2ms\n",
            "81:\tlearn: 0.2988971\ttest: 0.4325218\tbest: 0.4029452 (32)\ttotal: 89.3ms\tremaining: 45.8ms\n",
            "82:\tlearn: 0.2987167\ttest: 0.4326997\tbest: 0.4029452 (32)\ttotal: 89.7ms\tremaining: 44.3ms\n",
            "83:\tlearn: 0.2975628\ttest: 0.4341594\tbest: 0.4029452 (32)\ttotal: 90.2ms\tremaining: 42.9ms\n",
            "84:\tlearn: 0.2955660\ttest: 0.4327778\tbest: 0.4029452 (32)\ttotal: 90.6ms\tremaining: 41.6ms\n",
            "85:\tlearn: 0.2935040\ttest: 0.4325364\tbest: 0.4029452 (32)\ttotal: 91ms\tremaining: 40.2ms\n",
            "86:\tlearn: 0.2932480\ttest: 0.4329758\tbest: 0.4029452 (32)\ttotal: 91.4ms\tremaining: 38.9ms\n",
            "87:\tlearn: 0.2923208\ttest: 0.4335352\tbest: 0.4029452 (32)\ttotal: 91.9ms\tremaining: 37.6ms\n",
            "88:\tlearn: 0.2921134\ttest: 0.4334355\tbest: 0.4029452 (32)\ttotal: 92.3ms\tremaining: 36.3ms\n",
            "89:\tlearn: 0.2916851\ttest: 0.4348327\tbest: 0.4029452 (32)\ttotal: 92.8ms\tremaining: 35.1ms\n",
            "90:\tlearn: 0.2899012\ttest: 0.4365373\tbest: 0.4029452 (32)\ttotal: 93.2ms\tremaining: 33.8ms\n",
            "91:\tlearn: 0.2866417\ttest: 0.4365963\tbest: 0.4029452 (32)\ttotal: 93.7ms\tremaining: 32.6ms\n",
            "92:\tlearn: 0.2860555\ttest: 0.4373247\tbest: 0.4029452 (32)\ttotal: 94.1ms\tremaining: 31.4ms\n",
            "93:\tlearn: 0.2853998\ttest: 0.4386724\tbest: 0.4029452 (32)\ttotal: 94.6ms\tremaining: 30.2ms\n",
            "94:\tlearn: 0.2848290\ttest: 0.4384634\tbest: 0.4029452 (32)\ttotal: 95.1ms\tremaining: 29ms\n",
            "95:\tlearn: 0.2830962\ttest: 0.4393810\tbest: 0.4029452 (32)\ttotal: 95.6ms\tremaining: 27.9ms\n",
            "96:\tlearn: 0.2828046\ttest: 0.4404044\tbest: 0.4029452 (32)\ttotal: 96ms\tremaining: 26.7ms\n",
            "97:\tlearn: 0.2811906\ttest: 0.4379857\tbest: 0.4029452 (32)\ttotal: 96.4ms\tremaining: 25.6ms\n",
            "98:\tlearn: 0.2806262\ttest: 0.4392690\tbest: 0.4029452 (32)\ttotal: 96.9ms\tremaining: 24.5ms\n",
            "99:\tlearn: 0.2797543\ttest: 0.4397629\tbest: 0.4029452 (32)\ttotal: 97.4ms\tremaining: 23.4ms\n",
            "100:\tlearn: 0.2773502\ttest: 0.4427622\tbest: 0.4029452 (32)\ttotal: 97.8ms\tremaining: 22.3ms\n",
            "101:\tlearn: 0.2765855\ttest: 0.4432757\tbest: 0.4029452 (32)\ttotal: 98.4ms\tremaining: 21.2ms\n",
            "102:\tlearn: 0.2763143\ttest: 0.4440326\tbest: 0.4029452 (32)\ttotal: 99.1ms\tremaining: 20.2ms\n",
            "103:\tlearn: 0.2733733\ttest: 0.4358705\tbest: 0.4029452 (32)\ttotal: 99.6ms\tremaining: 19.2ms\n",
            "104:\tlearn: 0.2731005\ttest: 0.4375091\tbest: 0.4029452 (32)\ttotal: 100ms\tremaining: 18.1ms\n",
            "105:\tlearn: 0.2720284\ttest: 0.4395113\tbest: 0.4029452 (32)\ttotal: 100ms\tremaining: 17.1ms\n",
            "106:\tlearn: 0.2705313\ttest: 0.4377362\tbest: 0.4029452 (32)\ttotal: 101ms\tremaining: 16ms\n",
            "107:\tlearn: 0.2661180\ttest: 0.4279808\tbest: 0.4029452 (32)\ttotal: 101ms\tremaining: 15ms\n",
            "108:\tlearn: 0.2659593\ttest: 0.4283724\tbest: 0.4029452 (32)\ttotal: 102ms\tremaining: 14ms\n",
            "109:\tlearn: 0.2632927\ttest: 0.4293039\tbest: 0.4029452 (32)\ttotal: 102ms\tremaining: 13ms\n",
            "110:\tlearn: 0.2627013\ttest: 0.4293307\tbest: 0.4029452 (32)\ttotal: 103ms\tremaining: 12ms\n",
            "111:\tlearn: 0.2619971\ttest: 0.4297990\tbest: 0.4029452 (32)\ttotal: 103ms\tremaining: 11.1ms\n",
            "112:\tlearn: 0.2615251\ttest: 0.4309532\tbest: 0.4029452 (32)\ttotal: 104ms\tremaining: 10.1ms\n",
            "113:\tlearn: 0.2599954\ttest: 0.4325275\tbest: 0.4029452 (32)\ttotal: 104ms\tremaining: 9.12ms\n",
            "114:\tlearn: 0.2592316\ttest: 0.4327147\tbest: 0.4029452 (32)\ttotal: 104ms\tremaining: 8.18ms\n",
            "115:\tlearn: 0.2587836\ttest: 0.4326263\tbest: 0.4029452 (32)\ttotal: 105ms\tremaining: 7.23ms\n",
            "116:\tlearn: 0.2567831\ttest: 0.4294156\tbest: 0.4029452 (32)\ttotal: 105ms\tremaining: 6.3ms\n",
            "117:\tlearn: 0.2557955\ttest: 0.4302058\tbest: 0.4029452 (32)\ttotal: 106ms\tremaining: 5.38ms\n",
            "118:\tlearn: 0.2544770\ttest: 0.4328835\tbest: 0.4029452 (32)\ttotal: 106ms\tremaining: 4.46ms\n",
            "119:\tlearn: 0.2512146\ttest: 0.4302717\tbest: 0.4029452 (32)\ttotal: 107ms\tremaining: 3.55ms\n",
            "120:\tlearn: 0.2510411\ttest: 0.4300900\tbest: 0.4029452 (32)\ttotal: 107ms\tremaining: 2.65ms\n",
            "121:\tlearn: 0.2508981\ttest: 0.4300760\tbest: 0.4029452 (32)\ttotal: 108ms\tremaining: 1.76ms\n",
            "122:\tlearn: 0.2493191\ttest: 0.4254701\tbest: 0.4029452 (32)\ttotal: 108ms\tremaining: 879us\n",
            "123:\tlearn: 0.2487853\ttest: 0.4258939\tbest: 0.4029452 (32)\ttotal: 109ms\tremaining: 0us\n",
            "\n",
            "bestTest = 0.4029452318\n",
            "bestIteration = 32\n",
            "\n",
            "Shrink model to first 33 iterations.\n"
          ],
          "name": "stdout"
        },
        {
          "output_type": "execute_result",
          "data": {
            "text/plain": [
              "<catboost.core.CatBoostClassifier at 0x7f9f38029a58>"
            ]
          },
          "metadata": {
            "tags": []
          },
          "execution_count": 20
        }
      ]
    },
    {
      "cell_type": "code",
      "metadata": {
        "id": "5OpRgvzKdiFJ",
        "colab_type": "code",
        "colab": {
          "base_uri": "https://localhost:8080/",
          "height": 67
        },
        "outputId": "51d95488-2bbf-4936-a00f-e23637ba9fb7"
      },
      "source": [
        "pred = CB.predict(X_test)\n",
        "\n",
        "from sklearn.metrics import accuracy_score,confusion_matrix\n",
        "print(accuracy_score(y_test, pred))\n",
        "print(confusion_matrix(y_test, pred))"
      ],
      "execution_count": 21,
      "outputs": [
        {
          "output_type": "stream",
          "text": [
            "0.7833333333333333\n",
            "[[43  3]\n",
            " [10  4]]\n"
          ],
          "name": "stdout"
        }
      ]
    },
    {
      "cell_type": "code",
      "metadata": {
        "id": "CJvaO1OkdpZm",
        "colab_type": "code",
        "colab": {
          "base_uri": "https://localhost:8080/",
          "height": 205
        },
        "outputId": "4b441659-1105-4c97-b86b-f7adc01b8ad6"
      },
      "source": [
        "import lightgbm as lgb\n",
        "clf = lgb.LGBMClassifier(max_depth=-2, min_child_samples=28, n_estimators=365,\n",
        "                         num_leaves=16, learning_rate=0.07592)\n",
        "clf.fit(X_train, y_train)"
      ],
      "execution_count": 22,
      "outputs": [
        {
          "output_type": "stream",
          "text": [
            "/usr/local/lib/python3.6/dist-packages/sklearn/preprocessing/_label.py:235: DataConversionWarning: A column-vector y was passed when a 1d array was expected. Please change the shape of y to (n_samples, ), for example using ravel().\n",
            "  y = column_or_1d(y, warn=True)\n",
            "/usr/local/lib/python3.6/dist-packages/sklearn/preprocessing/_label.py:268: DataConversionWarning: A column-vector y was passed when a 1d array was expected. Please change the shape of y to (n_samples, ), for example using ravel().\n",
            "  y = column_or_1d(y, warn=True)\n"
          ],
          "name": "stderr"
        },
        {
          "output_type": "execute_result",
          "data": {
            "text/plain": [
              "LGBMClassifier(boosting_type='gbdt', class_weight=None, colsample_bytree=1.0,\n",
              "               importance_type='split', learning_rate=0.07592, max_depth=-2,\n",
              "               min_child_samples=28, min_child_weight=0.001, min_split_gain=0.0,\n",
              "               n_estimators=365, n_jobs=-1, num_leaves=16, objective=None,\n",
              "               random_state=None, reg_alpha=0.0, reg_lambda=0.0, silent=True,\n",
              "               subsample=1.0, subsample_for_bin=200000, subsample_freq=0)"
            ]
          },
          "metadata": {
            "tags": []
          },
          "execution_count": 22
        }
      ]
    },
    {
      "cell_type": "code",
      "metadata": {
        "id": "L4tBOoAJdsBT",
        "colab_type": "code",
        "colab": {
          "base_uri": "https://localhost:8080/",
          "height": 67
        },
        "outputId": "a59adb02-9bd5-425c-c1d4-c970019653e6"
      },
      "source": [
        "pred1 = clf.predict(X_test)\n",
        "\n",
        "from sklearn.metrics import accuracy_score,confusion_matrix\n",
        "print(accuracy_score(y_test, pred1))\n",
        "print(confusion_matrix(y_test, pred1))"
      ],
      "execution_count": 23,
      "outputs": [
        {
          "output_type": "stream",
          "text": [
            "0.8\n",
            "[[40  6]\n",
            " [ 6  8]]\n"
          ],
          "name": "stdout"
        }
      ]
    },
    {
      "cell_type": "code",
      "metadata": {
        "id": "pvD44W8bdyIs",
        "colab_type": "code",
        "colab": {
          "base_uri": "https://localhost:8080/",
          "height": 218
        },
        "outputId": "510bff2e-03e5-4d53-f905-dceb2bb65156"
      },
      "source": [
        "from sklearn.metrics import confusion_matrix\n",
        "cm = confusion_matrix(y_test, pred1)\n",
        "print('Confusion matrix\\n\\n', cm)\n",
        "print('\\nTrue Positives(TP) = ', cm[0,0])\n",
        "print('\\nTrue Negatives(TN) = ', cm[1,1])\n",
        "print('\\nFalse Positives(FP) = ', cm[0,1])\n",
        "print('\\nFalse Negatives(FN) = ', cm[1,0])"
      ],
      "execution_count": 24,
      "outputs": [
        {
          "output_type": "stream",
          "text": [
            "Confusion matrix\n",
            "\n",
            " [[40  6]\n",
            " [ 6  8]]\n",
            "\n",
            "True Positives(TP) =  40\n",
            "\n",
            "True Negatives(TN) =  8\n",
            "\n",
            "False Positives(FP) =  6\n",
            "\n",
            "False Negatives(FN) =  6\n"
          ],
          "name": "stdout"
        }
      ]
    },
    {
      "cell_type": "code",
      "metadata": {
        "id": "zMhyUA4-d0xX",
        "colab_type": "code",
        "colab": {
          "base_uri": "https://localhost:8080/",
          "height": 303
        },
        "outputId": "76010640-52b8-492d-ec2e-5c2ec7525b52"
      },
      "source": [
        "cm_matrix = pd.DataFrame(data=cm, columns=['Actual Positive:1', 'Actual Negative:0'], \n",
        "                                 index=['Predict Positive:1', 'Predict Negative:0'])\n",
        "\n",
        "sns.heatmap(cm_matrix, annot=True, fmt='d', cmap='YlGnBu')"
      ],
      "execution_count": 25,
      "outputs": [
        {
          "output_type": "execute_result",
          "data": {
            "text/plain": [
              "<matplotlib.axes._subplots.AxesSubplot at 0x7f9f2cded7b8>"
            ]
          },
          "metadata": {
            "tags": []
          },
          "execution_count": 25
        },
        {
          "output_type": "display_data",
          "data": {
            "image/png": "[encoded data removed]",
            "text/plain": [
              "<Figure size 432x288 with 2 Axes>"
            ]
          },
          "metadata": {
            "tags": [],
            "needs_background": "light"
          }
        }
      ]
    },
    {
      "cell_type": "code",
      "metadata": {
        "id": "exGggxF2d3uV",
        "colab_type": "code",
        "colab": {
          "base_uri": "https://localhost:8080/",
          "height": 168
        },
        "outputId": "aff5cd1a-0938-4fa3-c6b3-117fc9eda1c2"
      },
      "source": [
        "from sklearn.metrics import classification_report\n",
        "print(classification_report(y_test, pred1))"
      ],
      "execution_count": 26,
      "outputs": [
        {
          "output_type": "stream",
          "text": [
            "              precision    recall  f1-score   support\n",
            "\n",
            "           0       0.87      0.87      0.87        46\n",
            "           1       0.57      0.57      0.57        14\n",
            "\n",
            "    accuracy                           0.80        60\n",
            "   macro avg       0.72      0.72      0.72        60\n",
            "weighted avg       0.80      0.80      0.80        60\n",
            "\n"
          ],
          "name": "stdout"
        }
      ]
    }
  ]
}